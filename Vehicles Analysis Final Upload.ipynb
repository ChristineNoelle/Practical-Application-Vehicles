{
 "cells": [
  {
   "cell_type": "markdown",
   "metadata": {},
   "source": [
    "# Practical Application Assignment 11.1: What Drives the Price of a Car?"
   ]
  },
  {
   "cell_type": "markdown",
   "metadata": {},
   "source": [
    "## Purpose: \n",
    "\n",
    "1) Apply CRISP-DM Framework to Business Problem\n",
    "2) Explore Kaggle Dataset (426K Cars)\n",
    "3) Understand Factors Making A Car More Expensive or Less Expensive\n",
    "4) Provide Results and Analyses to Used Car Dealership Client\n",
    "5) Provide Clear Recommendations to Client, as to What Consumers Value in Used Car"
   ]
  },
  {
   "cell_type": "markdown",
   "metadata": {},
   "source": [
    "## CRISP-DM Framework: Standard Process for Data Projects/Mining\n",
    "\n",
    "1) Business Understanding: Background, Objectives, Success Criteria, Inventory of Resources/Requirements/Assumptions/Constraints/Risks/Contingencies/Terminology/Costs/Benefits, Data Mining Goals/Success Criteria\n",
    "\n",
    "2) Data Understanding: Data Collection/Exploration/Quality Report\n",
    "\n",
    "3) Data Preparation: Data Description/Inclusion/Exclusion/Attributes/Records, Merged Data, Reformatted Data\n",
    "\n",
    "4) Modeling: Select Technique/Assumptions, Generate Test Designs, Build Model/Parameter Settings/Model Descrption, Assess Model, Revise Parameter Settings\n",
    "\n",
    "5) Evaluation: Evaluate Results/Assessment of Results w.r.t Business Success Criteria/Approved Models, Review Process, Determine Next Steps, List of Possible Action Decisions\n",
    "\n",
    "6) Deployment: Plan Deployment, Plan Monitoring and Maintenance Plan, Produce Final Report/Final Presentation, Review Project/Experience Documentation\n"
   ]
  },
  {
   "cell_type": "markdown",
   "metadata": {},
   "source": [
    "## Deliverables:\n",
    "\n",
    "1) Understand Data\n",
    "2) Prepare Data\n",
    "3) Model Data\n",
    "4) Be Aware of Audience: Group of Used Car Dealers Interested in Fine-Tuning Inventory\n",
    "5) Write Up Basic Report Detailing Primary Findings to Audience"
   ]
  },
  {
   "cell_type": "markdown",
   "metadata": {},
   "source": [
    "## Submission Instructions:\n",
    "\n",
    "1) Submit the website URL to yout public-facing Github Repository (Include Dataset in Repository)\n",
    "2) Follow the Rubric"
   ]
  },
  {
   "cell_type": "markdown",
   "metadata": {},
   "source": [
    "# Question 1: Business Understanding\n",
    "\n",
    "From a business perspective, we are tasked with identifying key drivers for used car prices. In the CRISP-DM overview, we are asked to convert this business framing to a data problem definition. Using a few sentences, reframe the task as a data task with the appropriate technical vocabulary."
   ]
  },
  {
   "cell_type": "markdown",
   "metadata": {},
   "source": [
    "## Answer 1: \n",
    "\n",
    "Our intital data set includes 18 attributes. We are tasked to identify features, both which make a used car more expensive or less expensive, and to optimize features for possible models. In this analysis of features or attributes, we should be able to determine what consumers most value in a used car. To summarize, of the 18 attributes provided in the data set, we must choose which features are most meaningful to the consumer in terms of value. This process and outcome can aid the \"fine-tuning\" of inventory for a group of used car dealers. \n"
   ]
  },
  {
   "cell_type": "code",
   "execution_count": null,
   "metadata": {},
   "outputs": [],
   "source": [
    "###Importing Libraries\n",
    "%matplotlib inline\n",
    "import pandas as pd\n",
    "import numpy as np\n",
    "import seaborn as sns\n",
    "import seaborn.objects as so\n",
    "import matplotlib.pyplot as plt\n",
    "from matplotlib import colors as mcolors\n",
    "import plotly.express as px\n",
    "import plotly.figure_factory as ff\n",
    "import plotly.graph_objects as go\n",
    "import math \n",
    "import scipy.stats as stats\n",
    "import scipy.optimize\n",
    "from scipy.optimize import minimize\n",
    "from sklearn import linear_model\n",
    "from sklearn.linear_model import LinearRegression\n",
    "from sklearn.model_selection import train_test_split\n",
    "from sklearn.utils import shuffle\n",
    "from sklearn.metrics import mean_absolute_error, mean_squared_error\n",
    "from sklearn.pipeline import Pipeline, make_pipeline\n",
    "from sklearn.preprocessing import PolynomialFeatures, OneHotEncoder, OrdinalEncoder\n",
    "from sklearn.model_selection import train_test_split, GridSearchCV\n",
    "from sklearn.preprocessing import StandardScaler, PolynomialFeatures\n",
    "from sklearn.linear_model import Ridge\n",
    "from sklearn.metrics import r2_score\n",
    "from sklearn.compose import make_column_transformer, make_column_selector\n",
    "from sklearn.neighbors import KNeighborsRegressor\n",
    "from sklearn.decomposition import PCA\n",
    "from sklearn.utils import shuffle\n",
    "from random import shuffle, seed\n",
    "from sklearn import set_config"
   ]
  },
  {
   "cell_type": "code",
   "execution_count": null,
   "metadata": {},
   "outputs": [],
   "source": [
    "###Establishing style settings for viewing plots\n",
    "sns.set_theme(style=\"darkgrid\")"
   ]
  },
  {
   "cell_type": "code",
   "execution_count": null,
   "metadata": {},
   "outputs": [],
   "source": [
    "###Reading .csv file\n",
    "Vehicles1 = pd.read_csv(\"vehicles.csv\")"
   ]
  },
  {
   "cell_type": "code",
   "execution_count": null,
   "metadata": {},
   "outputs": [],
   "source": [
    "###Data Cleaning Process"
   ]
  },
  {
   "cell_type": "code",
   "execution_count": null,
   "metadata": {},
   "outputs": [],
   "source": [
    "###Exploring dataset by head\n",
    "Vehicles1.head()"
   ]
  },
  {
   "cell_type": "code",
   "execution_count": null,
   "metadata": {},
   "outputs": [],
   "source": [
    "###Exploring dataset by tail\n",
    "Vehicles1.tail()"
   ]
  },
  {
   "cell_type": "code",
   "execution_count": null,
   "metadata": {},
   "outputs": [],
   "source": [
    "###Exploring dataset by columns\n",
    "Vehicles1.columns"
   ]
  },
  {
   "cell_type": "code",
   "execution_count": null,
   "metadata": {},
   "outputs": [],
   "source": [
    "###Exploring dataset by shape\n",
    "Vehicles1.shape"
   ]
  },
  {
   "cell_type": "code",
   "execution_count": null,
   "metadata": {},
   "outputs": [],
   "source": [
    "###Exploring dataset by info\n",
    "Vehicles1.info()"
   ]
  },
  {
   "cell_type": "code",
   "execution_count": null,
   "metadata": {},
   "outputs": [],
   "source": [
    "###Exploring data set by describe\n",
    "Vehicles1.describe()"
   ]
  },
  {
   "cell_type": "markdown",
   "metadata": {},
   "source": [
    "# Question 2: Data Understanding\n",
    "\n",
    "After considering the business understanding, we want to get familiar with our data. Write down some steps that you would take to get to know the dataset and identify any quality issues within. Take time to get to know the dataset and explore what information it contains and how this could be used to inform your business understanding."
   ]
  },
  {
   "cell_type": "markdown",
   "metadata": {},
   "source": [
    "## Answer 2:\n",
    "\n",
    "Above, we have already determined the amount of, types of, and labels of columns in the data set. We have also already obtained the data frame's shape and a description of data frame's integer columns. The following are the steps I would take to get to familiarize myself with the dataset and identify any quality issues:\n",
    "\n",
    "1) Determine undefined values by feature and plan best removal of such values\n",
    "2) Explore each feature, and determine which features might be most meaningful to the model\n",
    "3) Drop features which may not contribute to a meaningful model \n",
    "4) Find data set that can best represent features most meaningful to the consumer in terms of value\n",
    "5) Proceed with further analyses"
   ]
  },
  {
   "cell_type": "markdown",
   "metadata": {},
   "source": [
    "### Intitial Data Exploration"
   ]
  },
  {
   "cell_type": "code",
   "execution_count": null,
   "metadata": {},
   "outputs": [],
   "source": [
    "###Determining sum of non-values by column\n",
    "Vehicles1.isna().sum()"
   ]
  },
  {
   "cell_type": "code",
   "execution_count": null,
   "metadata": {},
   "outputs": [],
   "source": [
    "###Exploring dataset when dropping non-values\n",
    "Vehicles2 = Vehicles1.dropna()"
   ]
  },
  {
   "cell_type": "code",
   "execution_count": null,
   "metadata": {},
   "outputs": [],
   "source": [
    "###Exploring shape of new dataset to observe if sufficient amount of data\n",
    "###Determined 34, 868 rows remain when all non-values dropped\n",
    "Vehicles2.shape"
   ]
  },
  {
   "cell_type": "code",
   "execution_count": null,
   "metadata": {},
   "outputs": [],
   "source": [
    "###Trying another method of cleaning data\n",
    "\n",
    "###Dropping columns with non-values greater than 50% rows of the dataset\n",
    "#Ex:Size\n",
    "\n",
    "###Dropping columns with no contribution to value of used car\n",
    "###Ex:VIN\n",
    "\n",
    "DropLevel1 = Vehicles1.drop([\"size\", \"VIN\"], axis=1)"
   ]
  },
  {
   "cell_type": "code",
   "execution_count": null,
   "metadata": {},
   "outputs": [],
   "source": [
    "###Confirming two columns dropped by shape\n",
    "DropLevel1.shape"
   ]
  },
  {
   "cell_type": "code",
   "execution_count": null,
   "metadata": {},
   "outputs": [],
   "source": [
    "###Exploring dataset when dropping non-values in DropLevel1 Dataframe\n",
    "Vehicles3 = DropLevel1.dropna()"
   ]
  },
  {
   "cell_type": "code",
   "execution_count": null,
   "metadata": {},
   "outputs": [],
   "source": [
    "###Exploring new dataset by shape\n",
    "Vehicles3.shape"
   ]
  },
  {
   "cell_type": "code",
   "execution_count": null,
   "metadata": {},
   "outputs": [],
   "source": [
    "###Keeping Vehicles3 dataset as opposed to Vehicles2 dataset\n",
    "###Determining sum of non-values by column\n",
    "Vehicles3.isna().sum()\n"
   ]
  },
  {
   "cell_type": "code",
   "execution_count": null,
   "metadata": {},
   "outputs": [],
   "source": [
    "###Exploring Vehicles3 dataset by info\n",
    "Vehicles3.info()"
   ]
  },
  {
   "cell_type": "code",
   "execution_count": null,
   "metadata": {},
   "outputs": [],
   "source": [
    "###Exploring dataset and converting objects to either strings or integer types \n",
    "###Exploring other columns by value counts\n",
    "Vehicles3[\"region\"].value_counts()"
   ]
  },
  {
   "cell_type": "code",
   "execution_count": null,
   "metadata": {},
   "outputs": [],
   "source": [
    "###Exploring other columns by value counts (cont.)\n",
    "Vehicles3[\"manufacturer\"].value_counts()"
   ]
  },
  {
   "cell_type": "code",
   "execution_count": null,
   "metadata": {},
   "outputs": [],
   "source": [
    "###Exploring other columns by value counts (cont.)\n",
    "Vehicles3[\"model\"].value_counts()"
   ]
  },
  {
   "cell_type": "code",
   "execution_count": null,
   "metadata": {},
   "outputs": [],
   "source": [
    "###Exploring other columns by value counts (cont.)\n",
    "Vehicles3[\"condition\"].value_counts()"
   ]
  },
  {
   "cell_type": "code",
   "execution_count": null,
   "metadata": {},
   "outputs": [],
   "source": [
    "###Exploring other columns by value counts (cont.)\n",
    "Vehicles3[\"cylinders\"].value_counts()"
   ]
  },
  {
   "cell_type": "code",
   "execution_count": null,
   "metadata": {},
   "outputs": [],
   "source": [
    "###Exploring other columns by value counts (cont.)\n",
    "Vehicles3[\"fuel\"].value_counts()"
   ]
  },
  {
   "cell_type": "code",
   "execution_count": null,
   "metadata": {},
   "outputs": [],
   "source": [
    "###Exploring other columns by value counts (cont.)\n",
    "Vehicles3[\"title_status\"].value_counts()"
   ]
  },
  {
   "cell_type": "code",
   "execution_count": null,
   "metadata": {},
   "outputs": [],
   "source": [
    "###Exploring other columns by value counts (cont.)\n",
    "Vehicles3[\"transmission\"].value_counts()"
   ]
  },
  {
   "cell_type": "code",
   "execution_count": null,
   "metadata": {},
   "outputs": [],
   "source": [
    "###Exploring other columns by value counts (cont.)\n",
    "Vehicles3[\"drive\"].value_counts()"
   ]
  },
  {
   "cell_type": "code",
   "execution_count": null,
   "metadata": {},
   "outputs": [],
   "source": [
    "###Exploring other columns by value counts (cont.)\n",
    "Vehicles3[\"type\"].value_counts()"
   ]
  },
  {
   "cell_type": "code",
   "execution_count": null,
   "metadata": {},
   "outputs": [],
   "source": [
    "###Exploring other columns by value counts (cont.)\n",
    "Vehicles3[\"paint_color\"].value_counts()"
   ]
  },
  {
   "cell_type": "code",
   "execution_count": null,
   "metadata": {},
   "outputs": [],
   "source": [
    "###Exploring other columns by value counts (cont.)\n",
    "Vehicles3[\"state\"].value_counts()"
   ]
  },
  {
   "cell_type": "code",
   "execution_count": null,
   "metadata": {},
   "outputs": [],
   "source": [
    "###Assessing for duplicate rows\n",
    "###None found\n",
    "Duplicated = Vehicles3.duplicated()\n",
    "sorted = Duplicated.sort_values()\n",
    "sorted.head()\n"
   ]
  },
  {
   "cell_type": "code",
   "execution_count": null,
   "metadata": {},
   "outputs": [],
   "source": [
    "###Setting index to id - since there are no duplicates\n",
    "setindex = Vehicles3.set_index(\"id\")\n"
   ]
  },
  {
   "cell_type": "code",
   "execution_count": null,
   "metadata": {},
   "outputs": [],
   "source": [
    "###Confirming set index\n",
    "setindex.columns"
   ]
  },
  {
   "cell_type": "markdown",
   "metadata": {},
   "source": [
    "# Question 3: Data Preparation\n",
    "\n",
    "After our initial exploration and fine-tuning of the business understanding, it is time to construct our final dataset prior to modeling. Here, we want to make sure to handle any integrity issues and cleaning, the engineering of new features, any transformations that we believe should happen (scaling, logarithms, normalization, etc.), and general preparation for modeling with sklearn."
   ]
  },
  {
   "cell_type": "markdown",
   "metadata": {},
   "source": [
    "## Answer 3:\n",
    "\n",
    "Data preparation for modeling will include examining features in plots such as heat maps for covariance, box plots for outliers, and scatter plots for viewing simple regression. All interpretations regarding plots will be placed in the comments above each plot. \n",
    "\n",
    "In this data exploration step, we will remove outliers and keep most meaningful features to used car value (odometer, transmission type) in the model. Data will then also be prepared for modeling in SciKit Learn, with the engineering of new features and scaling."
   ]
  },
  {
   "cell_type": "markdown",
   "metadata": {},
   "source": [
    "### Heat Maps"
   ]
  },
  {
   "cell_type": "code",
   "execution_count": null,
   "metadata": {},
   "outputs": [],
   "source": [
    "###Studying numeric variables (while including additional variable \"type\")\n",
    "NumericVeh3 = setindex[[\"price\", \"year\", \"odometer\", \"type\"]]\n",
    "sorted = NumericVeh3.sort_values(by = \"price\")"
   ]
  },
  {
   "cell_type": "markdown",
   "metadata": {},
   "source": [
    "#### Covariance only in price "
   ]
  },
  {
   "cell_type": "code",
   "execution_count": null,
   "metadata": {},
   "outputs": [],
   "source": [
    "###Studying covariance of numeric variables, or pairwise covariance of numeric columns\n",
    "cov = NumericVeh3.cov()\n",
    "sns.heatmap(cov).set(title='Numeric Variables Covariance')\n"
   ]
  },
  {
   "cell_type": "markdown",
   "metadata": {},
   "source": [
    "#### Determined small correlations between price, year, and odometer.  Determined no correlation between year and odometer."
   ]
  },
  {
   "cell_type": "code",
   "execution_count": null,
   "metadata": {},
   "outputs": [],
   "source": [
    "###Studying correlation of numeric variables\n",
    "###\n",
    "###\n",
    "corr = NumericVeh3.corr()\n",
    "sns.heatmap(corr).set(title='Numeric Variables Correlation')"
   ]
  },
  {
   "cell_type": "markdown",
   "metadata": {},
   "source": [
    "### Box Plots"
   ]
  },
  {
   "cell_type": "markdown",
   "metadata": {},
   "source": [
    "#### Determined need to delete extreme outliers"
   ]
  },
  {
   "cell_type": "code",
   "execution_count": null,
   "metadata": {},
   "outputs": [],
   "source": [
    "###Studying outliers box plots for price\n",
    "###Including color feature for type figbox \n",
    "\n",
    "figbox1 = px.box(setindex, x = \"price\", color = \"type\", title=\"Price Outliers Grouped By Type\")\n",
    "plt.show(figbox1)\n",
    "figbox1"
   ]
  },
  {
   "cell_type": "code",
   "execution_count": null,
   "metadata": {},
   "outputs": [],
   "source": [
    "###Dropping extreme outliers cases shown in boxplot \n",
    "###Dropping cases over the price of 1 million because these outliers may skew the data\n",
    "sorted.tail(15)"
   ]
  },
  {
   "cell_type": "code",
   "execution_count": null,
   "metadata": {},
   "outputs": [],
   "source": [
    "###Dropping outliers by index column (cont.)\n",
    "droppedoutliers = setindex.drop([7308056031,7305265540,7308010868,7303218798,7314339777,7316047597,7302895209, 7308748768, 7305419038],axis=0)"
   ]
  },
  {
   "cell_type": "code",
   "execution_count": null,
   "metadata": {},
   "outputs": [],
   "source": [
    "###Confirming dropped outliers\n",
    "droppedandsorted = droppedoutliers.sort_values(by = \"price\")\n",
    "droppedandsorted.tail()"
   ]
  },
  {
   "cell_type": "markdown",
   "metadata": {},
   "source": [
    "#### Viewing price outliers"
   ]
  },
  {
   "cell_type": "code",
   "execution_count": null,
   "metadata": {},
   "outputs": [],
   "source": [
    "###Confirming dropped outliers (cont.)\n",
    "figbox2 = px.box(droppedandsorted, x = \"price\", color = \"type\", title=\"Price Outliers Grouped By Type\")\n",
    "figbox2"
   ]
  },
  {
   "cell_type": "markdown",
   "metadata": {},
   "source": [
    "#### Determined need to drop prices greater than 50K"
   ]
  },
  {
   "cell_type": "code",
   "execution_count": null,
   "metadata": {},
   "outputs": [],
   "source": [
    "###Studying price outliers (cont.)\n",
    "\n",
    "figbox3 = px.box(droppedandsorted, x = \"price\", title=\"Price Outliers\")\n",
    "figbox3"
   ]
  },
  {
   "cell_type": "code",
   "execution_count": null,
   "metadata": {},
   "outputs": [],
   "source": [
    "###Removing price outliers (cont.)\n",
    "NoPriceOutliers = droppedandsorted.query('price < 50000')\n",
    "PriceNoOutliersDF = pd.DataFrame(NoPriceOutliers)\n",
    "PriceNoOutliersDF.shape"
   ]
  },
  {
   "cell_type": "markdown",
   "metadata": {},
   "source": [
    "#### Viewing odometer outliers"
   ]
  },
  {
   "cell_type": "code",
   "execution_count": null,
   "metadata": {},
   "outputs": [],
   "source": [
    "###Studying odometer outliers\n",
    "\n",
    "figbox4 = px.box(NoPriceOutliers, x = \"odometer\", color = \"type\", title = \"Odometer Outliers Grouped by Type\")\n",
    "figbox4"
   ]
  },
  {
   "cell_type": "markdown",
   "metadata": {},
   "source": [
    "#### Determined need to remove odometer outliers after 330K"
   ]
  },
  {
   "cell_type": "code",
   "execution_count": null,
   "metadata": {},
   "outputs": [],
   "source": [
    "###Studying odometer outliers (cont.)\n",
    "\n",
    "figbox5 = px.box(NoPriceOutliers, x = \"odometer\", title=\"Odometer Outliers\")\n",
    "figbox5"
   ]
  },
  {
   "cell_type": "code",
   "execution_count": null,
   "metadata": {},
   "outputs": [],
   "source": [
    "#Removing Odometer Outliers\n",
    "NoOdometerOutliers = NoPriceOutliers.query('odometer < 330000')\n",
    "OdometerNoOutliersDF = pd.DataFrame(NoOdometerOutliers)\n",
    "OdometerNoOutliersDF.shape"
   ]
  },
  {
   "cell_type": "markdown",
   "metadata": {},
   "source": [
    "#### Viewing year outliers"
   ]
  },
  {
   "cell_type": "code",
   "execution_count": null,
   "metadata": {},
   "outputs": [],
   "source": [
    "###Studying year outliers\n",
    "\n",
    "figbox6 = px.box(OdometerNoOutliersDF, x = \"year\", color = \"type\", title = \"Year Outliers Grouped by Type\")\n",
    "figbox6"
   ]
  },
  {
   "cell_type": "markdown",
   "metadata": {},
   "source": [
    "#### Determined need to remove outliers - cars prior to 1992"
   ]
  },
  {
   "cell_type": "code",
   "execution_count": null,
   "metadata": {
    "scrolled": true
   },
   "outputs": [],
   "source": [
    "###Studying year outliers (cont.)\n",
    "\n",
    "figbox7 = px.box(OdometerNoOutliersDF, x = \"year\", title = \"Year Outliers\")\n",
    "figbox7"
   ]
  },
  {
   "cell_type": "code",
   "execution_count": null,
   "metadata": {},
   "outputs": [],
   "source": [
    "#Removing Year Outliers \n",
    "NoYearOutliers = OdometerNoOutliersDF.query('year > 1992')\n",
    "YearNoOutliersDF = pd.DataFrame(NoYearOutliers)\n",
    "YearNoOutliersDF.shape"
   ]
  },
  {
   "cell_type": "markdown",
   "metadata": {},
   "source": [
    "### Scatter Plots"
   ]
  },
  {
   "cell_type": "markdown",
   "metadata": {},
   "source": [
    "#### There seems to be a linear relationship between price and odometer (R^2 = 0.29). As odometer miles increase, price decreases - and this makes sense because vehicles can lose valueas they age. It also appears, generally, that newer cars sell for higher prices than older cars, but not necessarily so - as seen on the bottom left corner of the graph (the newer cars with lower miles on the odometer)."
   ]
  },
  {
   "cell_type": "code",
   "execution_count": null,
   "metadata": {},
   "outputs": [],
   "source": [
    "###Simple Linear regression with numerical features\n",
    "figscatter1 = px.scatter(YearNoOutliersDF, x = \"odometer\", y = \"price\", color = \"year\", title = \"Simple Linear Regression: Price by Odometer Showing Year\", trendline = \"ols\")\n",
    "figscatter1"
   ]
  },
  {
   "cell_type": "markdown",
   "metadata": {},
   "source": [
    "#### Confirmed, by years 2010 to 2021 that newer cars, as they can sell for higher prices - can also sell for very low prices. It also appears that cars before the year 2000 trend towards under 30K."
   ]
  },
  {
   "cell_type": "code",
   "execution_count": null,
   "metadata": {},
   "outputs": [],
   "source": [
    "###Price by year\n",
    "figscatter2 = px.scatter(YearNoOutliersDF, x = \"year\", y = \"price\", color = \"price\", title = \"Price by Year\")\n",
    "figscatter2"
   ]
  },
  {
   "cell_type": "markdown",
   "metadata": {},
   "source": [
    "#### Regarding type, there appears to be a pattern that mini-vans with more than 100K on odometer sell for lower prices."
   ]
  },
  {
   "cell_type": "code",
   "execution_count": null,
   "metadata": {},
   "outputs": [],
   "source": [
    "###Studying 2D scatter plots in Plotly with other categorical variables\n",
    "figscatter3 = px.scatter(YearNoOutliersDF, x = \"odometer\", y = \"price\", color = \"type\", title = \"Price by Odometer and Car Type\", trendline = \"ols\")\n",
    "figscatter3\n"
   ]
  },
  {
   "cell_type": "markdown",
   "metadata": {},
   "source": [
    "#### Regarding condition of vehicle, there is a clear pattern that cars in fair condition are valued under 25K across the odometer range - it appears that odometer level does not impact value of cars in fair condition."
   ]
  },
  {
   "cell_type": "code",
   "execution_count": null,
   "metadata": {},
   "outputs": [],
   "source": [
    "###Studying 2D scatter plots in Plotly with other categorical variables\n",
    "figscatter4 = px.scatter(YearNoOutliersDF, x = \"odometer\", y = \"price\", color = \"condition\", title = \"Price by Odometer and Condition\", trendline = \"ols\")\n",
    "figscatter4"
   ]
  },
  {
   "cell_type": "markdown",
   "metadata": {},
   "source": [
    "#### Regarding transmission type, it appears that cars with \"other\" types of transmission (not automatic or manual) with low distances travelled are highly valued. Manual cars also trend towards lower values as odometer values increase. Choosing this as part of the model because there is a clear separation with manual and other in terms of value."
   ]
  },
  {
   "cell_type": "code",
   "execution_count": null,
   "metadata": {},
   "outputs": [],
   "source": [
    "###Studying 2D scatter plots in Plotly with other categorical variables\n",
    "figscatter5 = px.scatter(YearNoOutliersDF, x = \"odometer\", y = \"price\", color = \"transmission\", title = \"Price by Odometer and Transmission Type\", trendline = \"ols\")\n",
    "figscatter5"
   ]
  },
  {
   "cell_type": "markdown",
   "metadata": {},
   "source": [
    "#### Regarding drive type of car, overwhelmingly, most cars purchased have a drive type of 4, or front, wheel drive."
   ]
  },
  {
   "cell_type": "code",
   "execution_count": null,
   "metadata": {},
   "outputs": [],
   "source": [
    "####Studying 2D scatter plots in Plotly with other categorical variables\n",
    "figscatter6 = px.scatter(YearNoOutliersDF, x = \"odometer\", y = \"price\", color = \"drive\", title = \"Price by Odometer and Drive Type\", trendline = \"ols\")\n",
    "figscatter6"
   ]
  },
  {
   "cell_type": "markdown",
   "metadata": {},
   "source": [
    "#### Regarding cylinder type, it appears that a majority of used cars purchased are 4. 6, and 8 cylinders."
   ]
  },
  {
   "cell_type": "code",
   "execution_count": null,
   "metadata": {},
   "outputs": [],
   "source": [
    "#### Studying 2D scatter plots in Plotly with other categorical variables\n",
    "figscatter7 = px.scatter(YearNoOutliersDF, x = \"odometer\", y = \"price\", color = \"cylinders\", title = \"Price by Odometer and Cylinder Type\", trendline = \"ols\")\n",
    "figscatter7\n"
   ]
  },
  {
   "cell_type": "markdown",
   "metadata": {},
   "source": [
    "#### Regarding fuel type, it appears a majority of cars purchased are gas vehicles."
   ]
  },
  {
   "cell_type": "code",
   "execution_count": null,
   "metadata": {},
   "outputs": [],
   "source": [
    "#### Studying 2D scatter plots in Plotly with other categorical variables\n",
    "figscatter8 = px.scatter(YearNoOutliersDF, x = \"odometer\", y = \"price\", color = \"fuel\", title = \"Price by Odometer and Fuel Type\", trendline = \"ols\")\n",
    "figscatter8"
   ]
  },
  {
   "cell_type": "markdown",
   "metadata": {},
   "source": [
    "### Regarding manufacturer, it appears many Fords are sold, Chryslers are valued at under 20K after 75K odometer readings, Volkswagons are valued under 20K after odometer readings of 60K."
   ]
  },
  {
   "cell_type": "code",
   "execution_count": null,
   "metadata": {},
   "outputs": [],
   "source": [
    "######Studying 2D scatter plots in Plotly with other categorical variables\n",
    "figscatter9 = px.scatter(YearNoOutliersDF, x = \"odometer\", y = \"price\", color = \"manufacturer\", title = \"Price by Odometer and Manufacturer\", trendline = \"ols\")\n",
    "figscatter9"
   ]
  },
  {
   "cell_type": "markdown",
   "metadata": {},
   "source": [
    "#### Regarding title status, it appears that rebuilt cars tend to be valued at a low price without regard to mileage."
   ]
  },
  {
   "cell_type": "code",
   "execution_count": null,
   "metadata": {},
   "outputs": [],
   "source": [
    "######Studying 2D scatter plots in Plotly with other categorical variables\n",
    "figscatter10 = px.scatter(YearNoOutliersDF, x = \"odometer\", y = \"price\", color = \"title_status\", title = \"Price by Odometer and Title Status\", trendline = \"ols\")\n",
    "figscatter10"
   ]
  },
  {
   "cell_type": "markdown",
   "metadata": {},
   "source": [
    "#### Regarding paint color, it appears cars that are black, white, grey, and silver - as well as red and blue - are the majority of the cars sold."
   ]
  },
  {
   "cell_type": "code",
   "execution_count": null,
   "metadata": {},
   "outputs": [],
   "source": [
    "###Studying 2D scatter plots in Plotly with other categorical variables\n",
    "figscatter11 = px.scatter(YearNoOutliersDF, x = \"odometer\", y = \"price\", color = \"paint_color\", title = \"Price by Odometer and Paint Color\", trendline = \"ols\")\n",
    "figscatter11"
   ]
  },
  {
   "cell_type": "markdown",
   "metadata": {},
   "source": [
    "#### Regarding region, it appears that there are no clear majorities with the high amount of existing regions."
   ]
  },
  {
   "cell_type": "code",
   "execution_count": null,
   "metadata": {},
   "outputs": [],
   "source": [
    "###Studying 2D scatter plots in Plotly with other categorical variables\n",
    "figscatter12 = px.scatter(YearNoOutliersDF, x = \"odometer\", y = \"price\", color = \"region\", title = \"Price by Odometer and Region\", trendline = \"ols\")\n",
    "figscatter12"
   ]
  },
  {
   "cell_type": "markdown",
   "metadata": {},
   "source": [
    "### Model Decisions From Data Exploration: Data Frame Cleaning and Transformations"
   ]
  },
  {
   "cell_type": "code",
   "execution_count": null,
   "metadata": {},
   "outputs": [],
   "source": [
    "###Determined key numerical feature is odometer\n",
    "###Determined other key categorical feature as transmission\n",
    "###Determined two key features to use for model\n",
    "###Establishing initial data frame for sklearn\n",
    "KeyFeatures = [\"odometer\", \"transmission\"]\n",
    "KeyFeaturesDF = pd.DataFrame(YearNoOutliersDF[KeyFeatures])\n",
    "KeyFeaturesDF \n"
   ]
  },
  {
   "cell_type": "code",
   "execution_count": null,
   "metadata": {},
   "outputs": [],
   "source": [
    "###Creating dummy variables for transmission in this stage \n",
    "dummies = pd.get_dummies(KeyFeaturesDF[\"transmission\"])\n",
    "dummies\n"
   ]
  },
  {
   "cell_type": "code",
   "execution_count": null,
   "metadata": {},
   "outputs": [],
   "source": [
    "###Add columns to the dataframe\n",
    "data_w_dummies = pd.concat([KeyFeaturesDF, dummies], axis = 1)\n",
    "data_w_dummies"
   ]
  },
  {
   "cell_type": "code",
   "execution_count": null,
   "metadata": {},
   "outputs": [],
   "source": [
    "###Deleting transmission column entirely \n",
    "###Existing 4D model\n",
    "del data_w_dummies['transmission']\n",
    "data_w_dummies.head()\n"
   ]
  },
  {
   "cell_type": "code",
   "execution_count": null,
   "metadata": {},
   "outputs": [],
   "source": [
    "###Existing 4D model by info\n",
    "data_w_dummies.info()"
   ]
  },
  {
   "cell_type": "code",
   "execution_count": null,
   "metadata": {},
   "outputs": [],
   "source": [
    "###Existing 4D model by shape\n",
    "data_w_dummies.shape"
   ]
  },
  {
   "cell_type": "markdown",
   "metadata": {},
   "source": [
    "### Data Frame for Model 1 (Named \"ModelFrame\"): "
   ]
  },
  {
   "cell_type": "code",
   "execution_count": null,
   "metadata": {},
   "outputs": [],
   "source": [
    "###Preparing data for sklearn\n",
    "###Creating y-value dataframe to add to features data frame\n",
    "Price = [\"price\"]\n",
    "PriceDF = pd.DataFrame(YearNoOutliersDF[Price])\n",
    "PriceDF"
   ]
  },
  {
   "cell_type": "code",
   "execution_count": null,
   "metadata": {},
   "outputs": [],
   "source": [
    "###Preparing data for sklearn\n",
    "###Establish data frame with x (features) and y \n",
    "data_w_dummies[\"price\"] = PriceDF\n",
    "FinalFrame = data_w_dummies\n",
    "ModelFrame = FinalFrame.reset_index()\n",
    "del ModelFrame['id']\n",
    "ModelFrame.head()"
   ]
  },
  {
   "cell_type": "code",
   "execution_count": null,
   "metadata": {},
   "outputs": [],
   "source": [
    "#Prepare data for sklearn\n",
    "#Create indices for data frame and shuffle\n",
    "ShuffleM1 = list(range(0, len(ModelFrame)))\n",
    "seed(42)\n",
    "shuffle(ShuffleM1)\n",
    "ShuffleM1[:5]"
   ]
  },
  {
   "cell_type": "code",
   "execution_count": null,
   "metadata": {},
   "outputs": [],
   "source": [
    "###Model 1 variables\n",
    "XM1 = ModelFrame[['odometer', 'automatic', 'manual', 'other']]\n",
    "yM1 = ModelFrame['price']"
   ]
  },
  {
   "cell_type": "markdown",
   "metadata": {},
   "source": [
    "### Data Frame for Model 2 (Named \"Frame\"): "
   ]
  },
  {
   "cell_type": "code",
   "execution_count": null,
   "metadata": {},
   "outputs": [],
   "source": [
    "###Evaluating polynomials with pipeline method\n",
    "###Best complexity for odometer \n",
    "mses = []\n",
    "X = ModelFrame.drop(['price', 'automatic', 'manual', 'other'], axis = 1)\n",
    "y = ModelFrame ['price']\n",
    "for i in range(1, 11):\n",
    "    pipe = Pipeline([\n",
    "        ('quad_features', PolynomialFeatures(degree = i, include_bias = False)), \n",
    "        ('quad_model', LinearRegression())])\n",
    "    pipe.fit(X, y)\n",
    "    preds = pipe.predict(X)\n",
    "    mse = mean_squared_error(y, preds)\n",
    "    mses.append(mse)"
   ]
  },
  {
   "cell_type": "code",
   "execution_count": null,
   "metadata": {},
   "outputs": [],
   "source": [
    "###Evaluated polynomials with pipeline method, transforming odometer column \n",
    "###Instantiating polynomial features for odometer\n",
    "pfeatures = PolynomialFeatures()\n",
    "quad_features = pfeatures.fit_transform(X)\n",
    "print(type(quad_features))"
   ]
  },
  {
   "cell_type": "code",
   "execution_count": null,
   "metadata": {
    "scrolled": true
   },
   "outputs": [],
   "source": [
    "###Evaluating polynomials with pipeline method\n",
    "###Best complexity for odometer (cont.)\n",
    "print(len(mses))\n",
    "print(np.round(mses, 2))"
   ]
  },
  {
   "cell_type": "code",
   "execution_count": null,
   "metadata": {},
   "outputs": [],
   "source": [
    "###Evaluating polynomials with pipeline method\n",
    "###Best complexity for odometer (cont.)\n",
    "best_complexity = mses.index(min(mses)) + 1\n",
    "print(best_complexity)\n",
    "print(type(best_complexity))"
   ]
  },
  {
   "cell_type": "markdown",
   "metadata": {},
   "source": [
    "#### Best complexity for odometer is degree 3."
   ]
  },
  {
   "cell_type": "code",
   "execution_count": null,
   "metadata": {
    "scrolled": true
   },
   "outputs": [],
   "source": [
    "###Evaluating polynomials with pipeline method\n",
    "###Plotting best complexity\n",
    "px.scatter(x = list(range(1, 11)), y = mses,  labels = {'x': 'Degree',\n",
    "                                                        'y': \"Mean Squared Error\"},\n",
    "           title = 'Complexity vs. MSE')"
   ]
  },
  {
   "cell_type": "code",
   "execution_count": null,
   "metadata": {},
   "outputs": [],
   "source": [
    "###Evaluated polynomials with pipeline method, transforming odometer column\n",
    "###calling a dataframe \n",
    "poly_transform = PolynomialFeatures(degree = 3)\n",
    "pd.DataFrame(poly_transform.fit_transform(ModelFrame[[\"odometer\"]]))"
   ]
  },
  {
   "cell_type": "code",
   "execution_count": null,
   "metadata": {},
   "outputs": [],
   "source": [
    "###Evaluated polynomials with pipeline method, transforming odometer column\n",
    "###Getting rid of extraneous columns of all ones which is a bias feature = 1\n",
    "####So this bias factor gets removed with, include_bias = False\n",
    "poly_transform = PolynomialFeatures (degree = 3, include_bias = False)\n",
    "pd.DataFrame(poly_transform.fit_transform(ModelFrame[[\"odometer\"]]))"
   ]
  },
  {
   "cell_type": "code",
   "execution_count": null,
   "metadata": {},
   "outputs": [],
   "source": [
    "OdometerPoly = pd.DataFrame(poly_transform.fit_transform(ModelFrame[[\"odometer\"]]), columns = poly_transform.get_feature_names())\n",
    "OdometerPoly"
   ]
  },
  {
   "cell_type": "code",
   "execution_count": null,
   "metadata": {
    "scrolled": true
   },
   "outputs": [],
   "source": [
    "###Preparing final model to prepare data for sklearn\n",
    "###Adding polynomial odometer values\n",
    "Frame = pd.concat([ModelFrame, OdometerPoly], axis = 1)\n",
    "del Frame['odometer']\n",
    "Frame.head()"
   ]
  },
  {
   "cell_type": "code",
   "execution_count": null,
   "metadata": {},
   "outputs": [],
   "source": [
    "#Preparing data for sklearn\n",
    "#Creating indices for data frame and shuffle\n",
    "ShuffleM2 = list(range(0, len(Frame)))\n",
    "seed(42)\n",
    "shuffle(ShuffleM2)\n",
    "ShuffleM2[:5]"
   ]
  },
  {
   "cell_type": "code",
   "execution_count": null,
   "metadata": {},
   "outputs": [],
   "source": [
    "###Model 2 variables\n",
    "XM2 = Frame[['automatic', 'manual', 'other', 'x0', 'x0^2', 'x0^3']]\n",
    "yM2 = Frame['price']"
   ]
  },
  {
   "cell_type": "markdown",
   "metadata": {},
   "source": [
    "### Data Frame for Model 3 (Named \"PolyOnly\"): "
   ]
  },
  {
   "cell_type": "code",
   "execution_count": null,
   "metadata": {},
   "outputs": [],
   "source": [
    "###Evaluating model with odometer polynomials only\n",
    "PolyOnly = Frame.drop(['automatic', 'manual', 'other'], axis = 1)\n",
    "PolyOnly.head()"
   ]
  },
  {
   "cell_type": "code",
   "execution_count": null,
   "metadata": {},
   "outputs": [],
   "source": [
    "#Preparing data for sklearn\n",
    "#Creating indices for data frame and shuffle\n",
    "ShuffleM3 = list(range(0, len(PolyOnly)))\n",
    "seed(42)\n",
    "shuffle(ShuffleM3)\n",
    "ShuffleM3[:5]"
   ]
  },
  {
   "cell_type": "code",
   "execution_count": null,
   "metadata": {},
   "outputs": [],
   "source": [
    "###Model 3 variables\n",
    "XM3 = PolyOnly[['x0', 'x0^2', 'x0^3']]\n",
    "yM3 = PolyOnly['price']"
   ]
  },
  {
   "cell_type": "markdown",
   "metadata": {},
   "source": [
    "# Question 4: Model Building\n",
    "\n",
    "With your (almost?) final dataset in hand, it is now time to build some models. Here, you should build a number of different regression models with the price as the target. In building your models, you should explore different parameters and be sure to cross-validate your findings."
   ]
  },
  {
   "cell_type": "markdown",
   "metadata": {},
   "source": [
    "## Answer 4:\n",
    "\n",
    "There will be a comparison of four multiple regression models. The first three models will include training, validation, and test mean squared errors. The fourth model will include training and test mean squared errors based on Grid Search and Ridge Regression. Determined parameters for these models were first explored via plots and later explored via multiple regression. \n"
   ]
  },
  {
   "cell_type": "markdown",
   "metadata": {},
   "source": [
    "### Model 1 Build"
   ]
  },
  {
   "cell_type": "code",
   "execution_count": null,
   "metadata": {},
   "outputs": [],
   "source": [
    "ModelFrame.shape"
   ]
  },
  {
   "cell_type": "code",
   "execution_count": null,
   "metadata": {},
   "outputs": [],
   "source": [
    "#MSE Model 1\n",
    "ModelFrame_training_data, ModelFrame_validation_data, ModelFrame_test_data = np.split(ModelFrame, [65447, 87263])"
   ]
  },
  {
   "cell_type": "code",
   "execution_count": null,
   "metadata": {},
   "outputs": [],
   "source": [
    "#MSE Model 1 (cont.)\n",
    "Model1 = Pipeline([\n",
    "    ('model', LinearRegression(fit_intercept=False))\n",
    "])\n",
    "Model1.fit(ModelFrame_training_data, ModelFrame_training_data[['price']])"
   ]
  },
  {
   "cell_type": "code",
   "execution_count": null,
   "metadata": {},
   "outputs": [],
   "source": [
    "#Model 1: MSE test 2.32\n",
    "mean_squared_error(Model1.predict(ModelFrame_test_data), ModelFrame_test_data[['price']])"
   ]
  },
  {
   "cell_type": "code",
   "execution_count": null,
   "metadata": {},
   "outputs": [],
   "source": [
    "#Model 1: MSE training 8.79\n",
    "mean_squared_error(Model1.predict(ModelFrame_training_data), ModelFrame_training_data[['price']])"
   ]
  },
  {
   "cell_type": "code",
   "execution_count": null,
   "metadata": {},
   "outputs": [],
   "source": [
    "#Model 1 coefficients\n",
    "Model1.named_steps['model'].coef_"
   ]
  },
  {
   "cell_type": "markdown",
   "metadata": {},
   "source": [
    "### Model 2 Build"
   ]
  },
  {
   "cell_type": "code",
   "execution_count": null,
   "metadata": {},
   "outputs": [],
   "source": [
    "Frame.shape"
   ]
  },
  {
   "cell_type": "code",
   "execution_count": null,
   "metadata": {},
   "outputs": [],
   "source": [
    "#MSE Model 2\n",
    "Frame_training_data, Frame_validation_data, Frame_test_data = np.split(Frame, [65447, 87263])"
   ]
  },
  {
   "cell_type": "code",
   "execution_count": null,
   "metadata": {},
   "outputs": [],
   "source": [
    "#MSE Model 2 (cont.)\n",
    "Model2 = Pipeline([\n",
    "    ('model2', LinearRegression(fit_intercept=False))\n",
    "])\n",
    "Model2.fit(Frame_training_data, Frame_training_data[['price']])"
   ]
  },
  {
   "cell_type": "code",
   "execution_count": null,
   "metadata": {},
   "outputs": [],
   "source": [
    "#Model 2 MSE test 1.39\n",
    "mean_squared_error(Model2.predict(Frame_test_data), Frame_test_data[['price']])"
   ]
  },
  {
   "cell_type": "code",
   "execution_count": null,
   "metadata": {},
   "outputs": [],
   "source": [
    "#Model 2 MSE train 4.53\n",
    "mean_squared_error(Model2.predict(Frame_training_data), Frame_training_data[['price']])"
   ]
  },
  {
   "cell_type": "code",
   "execution_count": null,
   "metadata": {},
   "outputs": [],
   "source": [
    "#Model 2 coefficients\n",
    "Model2.named_steps['model2'].coef_"
   ]
  },
  {
   "cell_type": "markdown",
   "metadata": {},
   "source": [
    "### Model 3 Build"
   ]
  },
  {
   "cell_type": "code",
   "execution_count": null,
   "metadata": {},
   "outputs": [],
   "source": [
    "PolyOnly.shape"
   ]
  },
  {
   "cell_type": "code",
   "execution_count": null,
   "metadata": {},
   "outputs": [],
   "source": [
    "#MSE Model 3\n",
    "PolyOnly_training_data, PolyOnly_validation_data, PolyOnly_test_data = np.split(PolyOnly, [65447, 87263])"
   ]
  },
  {
   "cell_type": "code",
   "execution_count": null,
   "metadata": {},
   "outputs": [],
   "source": [
    "#MSE Model 3 (cont.)\n",
    "Model3 = Pipeline([\n",
    "    ('model3', LinearRegression(fit_intercept=False))\n",
    "])\n",
    "Model3.fit(PolyOnly_training_data, PolyOnly_training_data[['price']])"
   ]
  },
  {
   "cell_type": "code",
   "execution_count": null,
   "metadata": {},
   "outputs": [],
   "source": [
    "#Model 3 MSE test 3.44\n",
    "mean_squared_error(Model3.predict(PolyOnly_test_data), PolyOnly_test_data[['price']])"
   ]
  },
  {
   "cell_type": "code",
   "execution_count": null,
   "metadata": {},
   "outputs": [],
   "source": [
    "#Model 3 MSE train 1.84\n",
    "#Model 3 might be overfitting\n",
    "mean_squared_error(Model3.predict(PolyOnly_training_data), PolyOnly_training_data[['price']])"
   ]
  },
  {
   "cell_type": "code",
   "execution_count": null,
   "metadata": {},
   "outputs": [],
   "source": [
    "#Model 3 coefficients\n",
    "Model3.named_steps['model3'].coef_"
   ]
  },
  {
   "cell_type": "markdown",
   "metadata": {},
   "source": [
    "### Model 4 Build: Grid Search Cross Validation"
   ]
  },
  {
   "cell_type": "code",
   "execution_count": null,
   "metadata": {},
   "outputs": [],
   "source": [
    "###Preparing data for GridSearch\n",
    "###Evaluating Model 1, 4D DataFrame (one odometer and three transmission dummy variables)\n",
    "###Name X and y for Model Frame\n",
    "X = ModelFrame.drop('price', axis = 1)\n",
    "y = ModelFrame['price']"
   ]
  },
  {
   "cell_type": "code",
   "execution_count": null,
   "metadata": {},
   "outputs": [],
   "source": [
    "###Studying 4D model\n",
    "X = ModelFrame.drop('price', axis = 1)\n",
    "y = ModelFrame['price']\n",
    "ModelSK = linear_model.LinearRegression(fit_intercept=False)\n",
    "ModelSK.fit(X, y)"
   ]
  },
  {
   "cell_type": "code",
   "execution_count": null,
   "metadata": {
    "scrolled": true
   },
   "outputs": [],
   "source": [
    "###Exploring 4D model coefficients \n",
    "ModelSK.coef_"
   ]
  },
  {
   "cell_type": "code",
   "execution_count": null,
   "metadata": {},
   "outputs": [],
   "source": [
    "###Preparing data for Grid Search\n",
    "X_train, X_test, y_train, y_test = train_test_split(X, y, test_size=0.3, random_state=42)"
   ]
  },
  {
   "cell_type": "code",
   "execution_count": null,
   "metadata": {},
   "outputs": [],
   "source": [
    "###Preparing data for Grid Search\n",
    "###Studying baseline MSEs\n",
    "baseline_train = np.ones(shape = y_train.shape)*y_train.mean()\n",
    "baseline_test = np.ones(shape = y_test.shape)*y_test.mean()\n",
    "mse_baseline_train = mean_squared_error(baseline_train, y_train)\n",
    "mse_baseline_test = mean_squared_error(baseline_test, y_test)\n",
    "print(baseline_train.shape, baseline_test.shape)\n",
    "print(f'Baseline for training data: {mse_baseline_train}')\n",
    "print(f'Baseline for testing data: {mse_baseline_test}')"
   ]
  },
  {
   "cell_type": "code",
   "execution_count": null,
   "metadata": {},
   "outputs": [],
   "source": [
    "###Preparing data for Grid Search\n",
    "###Creating Dictionary for grid search\n",
    "params_dict = {'alpha': [0.1, 1.0, 10.0]}\n",
    "print(params_dict.values())\n",
    "print(params_dict.keys())"
   ]
  },
  {
   "cell_type": "code",
   "execution_count": null,
   "metadata": {},
   "outputs": [],
   "source": [
    "###Preparing data for Grid Search\n",
    "###Instantiating Grid Search object with ridge estimator\n",
    "ridge = Ridge()\n",
    "grid = GridSearchCV(ridge, param_grid=params_dict)\n",
    "print(grid.get_params()['param_grid'])\n",
    "print(grid)"
   ]
  },
  {
   "cell_type": "code",
   "execution_count": null,
   "metadata": {},
   "outputs": [],
   "source": [
    "###Performing Grid Search\n",
    "ridge = Ridge()\n",
    "grid = GridSearchCV(ridge, param_grid=params_dict)\n",
    "grid.fit(X_train, y_train)\n",
    "train_preds = grid.predict(X_train)\n",
    "test_preds = grid.predict(X_test)\n",
    "train_mse = mean_squared_error(y_train, train_preds)\n",
    "test_mse = mean_squared_error(y_test, test_preds)\n",
    "print(f'Train MSE: {train_mse}')\n",
    "print(f'Test MSE: {test_mse}')"
   ]
  },
  {
   "cell_type": "code",
   "execution_count": null,
   "metadata": {},
   "outputs": [],
   "source": [
    "###Identifying optimal alpha value in Grid Search\n",
    "ridge = Ridge()\n",
    "grid = GridSearchCV(ridge, param_grid=params_dict)\n",
    "grid.fit(X_train, y_train)\n",
    "best_alpha = grid.best_params_\n",
    "print(f'Best alpha: {list(best_alpha.values())[0]}')\n"
   ]
  },
  {
   "cell_type": "code",
   "execution_count": null,
   "metadata": {},
   "outputs": [],
   "source": [
    "###Instantiating, fitting, and scoring a grid search on the train and test data using mean squared \n",
    "###error. Appropriately scaling variables for ridge regression.\n",
    "pipe = Pipeline([('scale', StandardScaler()), ('ridge', Ridge())])"
   ]
  },
  {
   "cell_type": "code",
   "execution_count": null,
   "metadata": {},
   "outputs": [],
   "source": [
    "###Instantiating, fitting, and scoring a grid search on the train and test data using mean squared \n",
    "###error. Establishing parameter dictionary.\n",
    "param_dict = {'ridge__alpha': [0.001, 0.1, 1.0, 10.0, 100.0, 1000.0]}"
   ]
  },
  {
   "cell_type": "code",
   "execution_count": null,
   "metadata": {
    "scrolled": true
   },
   "outputs": [],
   "source": [
    "###Determining the optimal value for alpha and assigning it as a dictionary to model_2_best_alpha below\n",
    "###Determined test MSE is extremely high using Grid Search, too high to report \n",
    "###Will not formally report Test MSE: 87382862.56489076\n",
    "grid_2 = GridSearchCV(pipe, param_grid=param_dict)\n",
    "grid_2.fit(X_train, y_train)\n",
    "train_preds = grid_2.predict(X_train)\n",
    "test_preds = grid_2.predict(X_test)\n",
    "model_2_train_mse = mean_squared_error(y_train, train_preds)\n",
    "model_2_test_mse = mean_squared_error(y_test, test_preds)\n",
    "model_2_best_alpha = grid_2.best_params_\n",
    "print(f'Test MSE: {model_2_test_mse}')\n",
    "print(f'Best Alpha: {list(model_2_best_alpha.values())[0]}')"
   ]
  },
  {
   "cell_type": "code",
   "execution_count": null,
   "metadata": {},
   "outputs": [],
   "source": [
    "#Model 4 coefficients\n",
    "model_1 = Ridge().fit(X_train, y_train)\n",
    "model_1_coefs = model_1.coef_\n",
    "model_1_coefs"
   ]
  },
  {
   "cell_type": "code",
   "execution_count": null,
   "metadata": {},
   "outputs": [],
   "source": [
    "#After examining test MSEs, it appears that Model 2 performed best. The following is the data \n",
    "#frame head as a review of the variables in Model 2. Odometer is the third-degree polynomial.\n",
    "Frame.head()"
   ]
  },
  {
   "cell_type": "markdown",
   "metadata": {},
   "source": [
    "# Question 5: Evaluation \n",
    "\n",
    "With some modeling accomplished, we aim to reflect on what we identify as a high quality model and what we are able to learn from this. We should review our business objective and explore how well we can provide meaningful insight on drivers of used car prices. Your goal now is to distill your findings and determine whether the earlier phases need revisitation and adjustment or if you have information of value to bring back to your client."
   ]
  },
  {
   "cell_type": "markdown",
   "metadata": {},
   "source": [
    "# Answer 5: \n",
    "\n",
    "The data set began with 426,880 cases. Data was first inspected for null values and outliers. Both were removed methodically from the data set, to clean and prepare the data for building multiple regression models. A total of 109,079 cases remained for further analysis.\n",
    "\n",
    "First, numerical values were inspected.  Odometer was a continuous variable. As such, this variable was chosen as the main factor for multiple regression models over the year a car was built (not continuous). \n",
    "\n",
    "Decision 1: Odometer as Main Factor in Models\n",
    "\n",
    "In this data set there was evidence in multiple regression that used cars with low odometer readings were valued at higher prices. However, this finding did not characterize every data point. This is an obvious and intuitive finding supported by current evidence (R^2 indicated .29). This is also expected. A vehicle's odometer reading indicates the distance a car has travelled in miles. The more miles indicated in the odometer, the more a car has been used - hence, a drop in value. \n",
    "\n",
    "Decision 2: Transmission Type as Second Factor in Model Build\n",
    "\n",
    "When investigating categorical variables, transmission type (i.e., automatic, manual, and other) data points showed the strongest trends for high and low value prices. Although a majority of the cases were automatic transmission type (percentage), there were clear separations in prices between manual and other transmission types. Through data exploration, the resulting observation was that odometer value and transmission type might be the best factors to choose for multiple regression models. Model 2, which included the transmission and the third-degree polynomial for the odometer, will show as the model with the lowest test mean-squared-error and best performance.\n",
    "  \n",
    "Decision 3: Multiple Regression Model Evaluation\n",
    "\n",
    "Data sets for Models 1, 2, and 3 were split into training (60%), validation (20%), and test (20%) sets. Grid Search CV included a test set (30%). However MSE values will show as extremely high. \n",
    "\n",
    "We found in our multiple linear regression models and data exploration, that cars with lower odometer readings tend to sell for higher prices. Our multiple linear regression models also suggested \n",
    "that when odometer readings were low, transmission of other types - not manual or automatic - tend to sell at higher prices.\n",
    "\n",
    "Not only did car price reflect what consumer valued, but also did amount, or quantities sold. Our data exploration when building the multiple regression models also revealed patterns for actionable suggestions. \n",
    "\n",
    "Decision 4: Report Additional Findings in Data Exploration\n",
    "\n",
    "In studying the data points to build the multiple regression models, patterns that were evident. Findings will be displayed in charts and bar plots to follow."
   ]
  },
  {
   "cell_type": "markdown",
   "metadata": {},
   "source": [
    "### Findings: Model 2 is Best"
   ]
  },
  {
   "cell_type": "markdown",
   "metadata": {},
   "source": [
    "#### Model 2 MSEs and Coefficients"
   ]
  },
  {
   "cell_type": "code",
   "execution_count": null,
   "metadata": {
    "scrolled": false
   },
   "outputs": [],
   "source": [
    "Chart1 = {'': ['1: Odometer, Transmission', '2: Odometer (Polynomials), Transmission', '3: Odometer (Polynomials)'],\n",
    "        'Training MSE': [8.79, 4.53, 1.84],\n",
    "        'Test MSE': [2.32 ,1.39 ,3.44],\n",
    "        'Number of Features': [4, 6, 3]}\n",
    "Chart1DF = pd.DataFrame (Chart1)\n",
    "Chart1DF.set_index([\"\"])\n"
   ]
  },
  {
   "cell_type": "markdown",
   "metadata": {},
   "source": [
    "The test MSEs are best suited for non-biased results. As such, it is clear that Model 2 performed the best (Model 4 test MSE was not included due to extremity). It appears there was also an overfitting in Model 3. "
   ]
  },
  {
   "cell_type": "code",
   "execution_count": null,
   "metadata": {},
   "outputs": [],
   "source": [
    "Coefficient2 = {'': ['Odometer (Polynomials), Transmission'],\n",
    "        'Odometer': [-2.82],\n",
    "        'Odometer^2': [1.60],\n",
    "        'Odometer^3': [-3.27], \n",
    "        'Automatic': [1.26],\n",
    "        'Manual': [5.37],\n",
    "        'Other': [2.42]}\n",
    "Coefficient2DF = pd.DataFrame(Coefficient2)\n",
    "print(Coefficient2DF.to_string(index=False))"
   ]
  },
  {
   "cell_type": "markdown",
   "metadata": {},
   "source": [
    "In Model 2, the size of the coefficients express that manual transmission had the highest effect on the dependent variable and automatic had the lowest effect. Regarding the third-degree polynomial, the third degree had the highest effect on the dependent variable and the second degree had the lowest effect. "
   ]
  },
  {
   "cell_type": "markdown",
   "metadata": {},
   "source": [
    "#### Examining Coefficients for Other Models"
   ]
  },
  {
   "cell_type": "code",
   "execution_count": null,
   "metadata": {},
   "outputs": [],
   "source": [
    "Coefficient1 = {' ': ['Odometer, Transmission'],\n",
    "        'Odometer': [-3.82],\n",
    "        'Automatic': [8.47],\n",
    "        'Manual': [4.63],\n",
    "        'Other': [4.13]}\n",
    "Coefficient1DF = pd.DataFrame (Coefficient1)\n",
    "print(Coefficient1DF.to_string(index=False))"
   ]
  },
  {
   "cell_type": "markdown",
   "metadata": {},
   "source": [
    "In Model 1, the size of the coefficients express that automatic transmission had the highest effect on the dependent variable and odometer had the lowest effect. "
   ]
  },
  {
   "cell_type": "code",
   "execution_count": null,
   "metadata": {
    "scrolled": true
   },
   "outputs": [],
   "source": [
    "Coefficient3 = {'': ['Odometer (Polynomials)'],\n",
    "        'Odometer': [-6.80],\n",
    "        'Odometer^2': [3.66],\n",
    "        'Odometer^3': [-5.71]}\n",
    "Coefficient3DF = pd.DataFrame(Coefficient3)\n",
    "print(Coefficient3DF.to_string(index=False))"
   ]
  },
  {
   "cell_type": "markdown",
   "metadata": {},
   "source": [
    "In Model 3, the size of the coefficients express that the first-degree polynomial had the highest effect on the dependent variable and the second degree had the lowest effect. Interestingly, the second degree polynomial was the lowest, and had the opposite linear relationship, in both models including the polynomials (Models 2 and 3). "
   ]
  },
  {
   "cell_type": "code",
   "execution_count": null,
   "metadata": {},
   "outputs": [],
   "source": [
    "Coefficient4 = {' ': ['Odometer, Transmission'],\n",
    "        'Odometer': [-7.87],\n",
    "        'Automatic': [-3.50],\n",
    "        'Manual': [-4.90],\n",
    "        'Other': [8.41]}\n",
    "Coefficient4DF = pd.DataFrame (Coefficient4)\n",
    "print(Coefficient4DF.to_string(index=False))"
   ]
  },
  {
   "cell_type": "markdown",
   "metadata": {},
   "source": [
    "In Model 4, the size of the coefficients express that other types of transmission had the highest effect on the dependent variable and automatic had the lowest effect."
   ]
  },
  {
   "cell_type": "markdown",
   "metadata": {},
   "source": [
    "### Bar Plot: \"Percentage of Cars Sold: Put These in Your Lot\"\n",
    "\n",
    "Transforming data frame features to reflect percentages in a new data frame for report."
   ]
  },
  {
   "cell_type": "code",
   "execution_count": null,
   "metadata": {},
   "outputs": [],
   "source": [
    "YearNoOutliersDF[\"condition\"].value_counts()\n"
   ]
  },
  {
   "cell_type": "code",
   "execution_count": null,
   "metadata": {},
   "outputs": [],
   "source": [
    "49731/109079, (43891)/109079, (11675)/109079"
   ]
  },
  {
   "cell_type": "code",
   "execution_count": null,
   "metadata": {},
   "outputs": [],
   "source": [
    "YearNoOutliersDF[\"cylinders\"].value_counts()"
   ]
  },
  {
   "cell_type": "code",
   "execution_count": null,
   "metadata": {},
   "outputs": [],
   "source": [
    "41628/109079, (34941)/109079, (30310)/109079"
   ]
  },
  {
   "cell_type": "code",
   "execution_count": null,
   "metadata": {},
   "outputs": [],
   "source": [
    "YearNoOutliersDF[\"fuel\"].value_counts()\n"
   ]
  },
  {
   "cell_type": "code",
   "execution_count": null,
   "metadata": {},
   "outputs": [],
   "source": [
    "(100439)/109079"
   ]
  },
  {
   "cell_type": "code",
   "execution_count": null,
   "metadata": {},
   "outputs": [],
   "source": [
    "YearNoOutliersDF[\"title_status\"].value_counts()"
   ]
  },
  {
   "cell_type": "code",
   "execution_count": null,
   "metadata": {},
   "outputs": [],
   "source": [
    "103281/109079, (3485/109079)"
   ]
  },
  {
   "cell_type": "code",
   "execution_count": null,
   "metadata": {},
   "outputs": [],
   "source": [
    "YearNoOutliersDF[\"transmission\"].value_counts()"
   ]
  },
  {
   "cell_type": "code",
   "execution_count": null,
   "metadata": {},
   "outputs": [],
   "source": [
    "90614/109079"
   ]
  },
  {
   "cell_type": "code",
   "execution_count": null,
   "metadata": {},
   "outputs": [],
   "source": [
    "YearNoOutliersDF[\"drive\"].value_counts()"
   ]
  },
  {
   "cell_type": "code",
   "execution_count": null,
   "metadata": {},
   "outputs": [],
   "source": [
    "46665/109079, 39076/109079"
   ]
  },
  {
   "cell_type": "code",
   "execution_count": null,
   "metadata": {},
   "outputs": [],
   "source": [
    "YearNoOutliersDF[\"paint_color\"].value_counts()"
   ]
  },
  {
   "cell_type": "code",
   "execution_count": null,
   "metadata": {},
   "outputs": [],
   "source": [
    "26577/109079, 20977/109079, 16415/109079, 11974/109079, 11671/109079, 11364/109079"
   ]
  },
  {
   "cell_type": "code",
   "execution_count": null,
   "metadata": {},
   "outputs": [],
   "source": [
    "Feature = ['Condition: Excellent', \n",
    "           'Condition: Good',\n",
    "           '6 Cylinders', \n",
    "           '4 Cylinders', \n",
    "           '8 Cylinders',\n",
    "           'Clean Title', \n",
    "           'Automatic',\n",
    "           'Gas',\n",
    "           'Four-Wheel', \n",
    "           'Front Wheel', \n",
    "           'White', \n",
    "           'Black', \n",
    "           'Silver', \n",
    "           'Grey', \n",
    "           'Blue',\n",
    "           'Red',]\n",
    "Percentage = [46, 40, 38, 32, 28, 95, 83, 92, 43, 36, 24, 19, 15, 11, 10, 10]\n",
    "list_of_tuples = list(zip(Feature, Percentage))\n",
    "df = pd.DataFrame(list_of_tuples,\n",
    "                  columns=['Feature', 'Percentage'])\n",
    "    \n",
    "    \n"
   ]
  },
  {
   "cell_type": "markdown",
   "metadata": {},
   "source": [
    "# Question 6: Deployment\n",
    "\n",
    "Now that we've settled on our models and findings, it is time to deliver the information to the client. You should organize your work as a basic report that details your primary findings. Keep in mind that your audience is a group of used car dealers interested in fine tuning their inventory.\n"
   ]
  },
  {
   "cell_type": "markdown",
   "metadata": {},
   "source": [
    "## Charted MSEs: Model 2 Performed Best "
   ]
  },
  {
   "cell_type": "code",
   "execution_count": null,
   "metadata": {},
   "outputs": [],
   "source": [
    "Chart1 = {'': ['1: Odometer, Transmission', '2: Odometer (Polynomials), Transmission', '3: Odometer (Polynomials)'],\n",
    "        'Training MSE': [8.79, 4.53, 1.84],\n",
    "        'Test MSE': [2.32 ,1.39 ,3.44],\n",
    "        'Number of Features': [4, 6, 3]}\n",
    "Chart1DF = pd.DataFrame (Chart1)\n",
    "Chart1DF.set_index([\"\"])"
   ]
  },
  {
   "cell_type": "markdown",
   "metadata": {},
   "source": [
    "## Bar Plot: \"Percentage of Cars Sold: Put These in Your Lot\"\n",
    "\n",
    "Suggestions for used car inventory, in addition to other actionable items, to be explained below.  "
   ]
  },
  {
   "cell_type": "code",
   "execution_count": null,
   "metadata": {
    "scrolled": false
   },
   "outputs": [],
   "source": [
    "QuantitySells = sns.catplot(data=df, kind = 'bar', x = \"Percentage\", y = \"Feature\") \n",
    "plt.title(\"Percentage of Cars Sold: Put These in Your Lot\")\n",
    "plt.xlabel('Percentage of Data Set')\n",
    "plt.ylabel('DataFeature')\n",
    "sns.set(rc={\"figure.figsize\":(40, 4)}) "
   ]
  },
  {
   "cell_type": "markdown",
   "metadata": {},
   "source": [
    "## Question 6: Answer\n",
    "\n",
    "In the time spent inspecting the data, plotting, cleaning, and exploring feature columns, and building multiple regression models there were resulting patterns. Objectives were met to make inventory suggestions and clear recommendations. These recommendations are made solely on patterns in the data set provided. The next decade's plan might include the monitoring and submitting of more data that will modify future recommendations. Perhaps the following recommendations, and above detailed report, will have increased the number of cars sold per dealership.\n",
    "\n",
    "Summary of actionable items list (based on main findings in above plots): \n",
    "\n",
    "Increase Inventory \n",
    "\n",
    "1. Expect that odometer readings will affect the value of the used cars in your dealership (however, also know that this is not necessarily true in every case). Still attempt to increase the inventory of cars with low odometer readings. Expect that transmissions of other types, not manual or automatic, will sell for higher prices with lower odometer readings. \n",
    "\n",
    "2. Examine the \"Percentage of Cars Sold: Put These in Your Lot\" bar plot, and use as a reference for cars to represent in your lots. The majority of sales are represnted in this bar plot. Some sale quantities are inuitive, but others are not. Note that together, the colors listed account for more than 79% of cars sold. Note also that cars do not have to be in \"like new\" condition for high value (they can be in \"good\" or \"excellent condition\").  \n",
    "\n",
    "Decrease Inventory \n",
    "\n",
    "3. Expect cars in \"fair\" condition to sell for under 30,000 dollars.\n",
    "\n",
    "4. Expect that cars with title status as \"rebuilt\" to sell for under 30,000 dollars.\n",
    "\n",
    "5. For the following specific models and types expect the following: \n",
    "\n",
    "- Mini-vans with more than 100,000 miles in odometer to sell for under 10,000 dollars\n",
    "- Volkswagons with more than 60,000 miles on the odometer to sell for under 20,000 dollars \n",
    "- Chryslers with more than 75,000 miles on the odometer to sell for under 29,000 dollars\n",
    "\n",
    "6. Expect that cars built before the year 2000 to sell for under 30,000 dollars. \n"
   ]
  }
 ],
 "metadata": {
  "kernelspec": {
   "display_name": "Python 3",
   "language": "python",
   "name": "python3"
  },
  "language_info": {
   "codemirror_mode": {
    "name": "ipython",
    "version": 3
   },
   "file_extension": ".py",
   "mimetype": "text/x-python",
   "name": "python",
   "nbconvert_exporter": "python",
   "pygments_lexer": "ipython3",
   "version": "3.7.6"
  }
 },
 "nbformat": 4,
 "nbformat_minor": 4
}
